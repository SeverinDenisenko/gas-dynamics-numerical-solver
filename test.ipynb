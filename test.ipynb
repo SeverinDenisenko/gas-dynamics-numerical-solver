{
 "cells": [
  {
   "cell_type": "code",
   "execution_count": 1,
   "id": "0f8c96e6-dd44-4631-9cd6-4d1d7aedcfc4",
   "metadata": {},
   "outputs": [],
   "source": [
    "from pygasdynamics import solver"
   ]
  },
  {
   "cell_type": "code",
   "execution_count": 2,
   "id": "aa9233fe-f8b3-4d84-9371-024e1fa5b9d6",
   "metadata": {},
   "outputs": [
    {
     "data": {
      "text/plain": [
       "['__builtins__',\n",
       " '__cached__',\n",
       " '__doc__',\n",
       " '__file__',\n",
       " '__loader__',\n",
       " '__name__',\n",
       " '__package__',\n",
       " '__spec__',\n",
       " '_library',\n",
       " 'test']"
      ]
     },
     "execution_count": 2,
     "metadata": {},
     "output_type": "execute_result"
    }
   ],
   "source": [
    "dir(solver)"
   ]
  },
  {
   "cell_type": "code",
   "execution_count": 3,
   "id": "44536944-bc08-434d-b3b9-250cc382b12a",
   "metadata": {},
   "outputs": [],
   "source": [
    "solver.test()"
   ]
  },
  {
   "cell_type": "code",
   "execution_count": null,
   "id": "f1e8e453-537f-4ddc-8562-c75c2e9397e2",
   "metadata": {},
   "outputs": [],
   "source": []
  }
 ],
 "metadata": {
  "kernelspec": {
   "display_name": "Python 3 (ipykernel)",
   "language": "python",
   "name": "python3"
  },
  "language_info": {
   "codemirror_mode": {
    "name": "ipython",
    "version": 3
   },
   "file_extension": ".py",
   "mimetype": "text/x-python",
   "name": "python",
   "nbconvert_exporter": "python",
   "pygments_lexer": "ipython3",
   "version": "3.12.7"
  }
 },
 "nbformat": 4,
 "nbformat_minor": 5
}
